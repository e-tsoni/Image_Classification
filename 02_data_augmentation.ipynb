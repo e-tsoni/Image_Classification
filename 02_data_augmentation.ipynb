{
 "cells": [
  {
   "cell_type": "code",
   "execution_count": 1,
   "id": "initial_id",
   "metadata": {
    "collapsed": true,
    "ExecuteTime": {
     "end_time": "2024-03-05T09:21:43.344062Z",
     "start_time": "2024-03-05T09:21:43.249477Z"
    }
   },
   "outputs": [],
   "source": [
    "import os\n",
    "from PIL import Image, ImageEnhance, ImageOps\n",
    "import numpy as np"
   ]
  },
  {
   "cell_type": "code",
   "outputs": [
    {
     "name": "stdout",
     "output_type": "stream",
     "text": [
      "data_dir C:\\Users\\etson\\PycharmProjects\\pythonProject\n",
      "source_root C:\\Users\\etson\\PycharmProjects\\pythonProject\\data\\archive\n",
      "augmented_root C:\\Users\\etson\\PycharmProjects\\pythonProject\\data\\archive\\augmented\n"
     ]
    }
   ],
   "source": [
    "# define the root directory paths for the original dataset and the destination for the augmented images.\n",
    "path = os.getcwd()\n",
    "print(\"data_dir\", path)\n",
    "source_root = os.path.join(path, \"data\", \"archive\")\n",
    "print(\"source_root\", source_root)\n",
    "augmented_root = os.path.join(path, \"data\", \"archive\", \"augmented\")\n",
    "print(\"augmented_root\", augmented_root)\n"
   ],
   "metadata": {
    "collapsed": false,
    "ExecuteTime": {
     "end_time": "2024-03-05T09:21:43.349982Z",
     "start_time": "2024-03-05T09:21:43.345079Z"
    }
   },
   "id": "9f92653a34ecb6ab",
   "execution_count": 2
  },
  {
   "cell_type": "code",
   "outputs": [],
   "source": [
    "def augment_image(image_path, save_path):\n",
    "    \"\"\"\n",
    "    Applies a series of augmentations to an image and saves the augmented images\n",
    "    \"\"\"\n",
    "    \n",
    "    # Open an image file (location: image_path) and loads it into memory as an Image object.\n",
    "    image = Image.open(image_path)\n",
    "    # Define a list of functions (lambdas) for different image augmentations: \n",
    "    # rotation (90, 180, 270 degrees), \n",
    "    # color enhancement (reducing color intensity), \n",
    "    # contrast enhancement (increasing contrast), \n",
    "    # and flipping (left-right and top-bottom).\n",
    "    augmentations = [\n",
    "        lambda x: x.rotate(90),\n",
    "        lambda x: x.rotate(180),\n",
    "        lambda x: x.rotate(270),\n",
    "        lambda x: ImageEnhance.Color(x).enhance(0.5),\n",
    "        lambda x: ImageEnhance.Contrast(x).enhance(1.5),\n",
    "        lambda x: x.transpose(Image.FLIP_LEFT_RIGHT),\n",
    "        lambda x: x.transpose(Image.FLIP_TOP_BOTTOM),\n",
    "    ]\n",
    "    \n",
    "    # Save the original image as well in the augmented dataset\n",
    "    original_save_path = os.path.join(save_path, os.path.basename(image_path))\n",
    "    image.save(original_save_path)\n",
    "    \n",
    "    # Apply each augmentation and save\n",
    "    for idx, augmentation in enumerate(augmentations):\n",
    "        # applies the current augmentation function to the image.\n",
    "        augmented_image = augmentation(image)\n",
    "        # make each augmented image have a unique filename.\n",
    "        augmented_image_path = f\"{original_save_path.split('.')[0]}_aug{idx}.{original_save_path.split('.')[-1]}\"\n",
    "        # save the augmented image to the constructed path.\n",
    "        augmented_image.save(augmented_image_path)\n"
   ],
   "metadata": {
    "collapsed": false,
    "ExecuteTime": {
     "end_time": "2024-03-05T09:21:43.355425Z",
     "start_time": "2024-03-05T09:21:43.350988Z"
    }
   },
   "id": "efb791c1b36b97e6",
   "execution_count": 3
  },
  {
   "cell_type": "code",
   "outputs": [],
   "source": [
    "for root, dirs, files in os.walk(source_root):\n",
    "    for dir_name in dirs:\n",
    "        if dir_name == '1':  # We augment only the positive samples\n",
    "            dir_path = os.path.join(root, dir_name)\n",
    "            save_path = dir_path.replace(source_root, augmented_root)\n",
    "            os.makedirs(save_path, exist_ok=True)\n",
    "            for file in os.listdir(dir_path):\n",
    "                file_path = os.path.join(dir_path, file)\n",
    "                augment_image(file_path, save_path)\n"
   ],
   "metadata": {
    "collapsed": false,
    "ExecuteTime": {
     "end_time": "2024-03-05T09:36:03.206114Z",
     "start_time": "2024-03-05T09:21:43.355425Z"
    }
   },
   "id": "116f2cd4c27a23d5",
   "execution_count": 4
  },
  {
   "cell_type": "code",
   "outputs": [],
   "source": [],
   "metadata": {
    "collapsed": false
   },
   "id": "1f64861fe773457c",
   "execution_count": null
  }
 ],
 "metadata": {
  "kernelspec": {
   "display_name": "Python 3",
   "language": "python",
   "name": "python3"
  },
  "language_info": {
   "codemirror_mode": {
    "name": "ipython",
    "version": 2
   },
   "file_extension": ".py",
   "mimetype": "text/x-python",
   "name": "python",
   "nbconvert_exporter": "python",
   "pygments_lexer": "ipython2",
   "version": "2.7.6"
  }
 },
 "nbformat": 4,
 "nbformat_minor": 5
}
