{
 "cells": [
  {
   "cell_type": "markdown",
   "source": [
    "# Data Augmentation\n",
    "\n",
    "**Data augmentation** is a technique used in machine learning and deep learning to increase the diversity of your training set by applying various transformations to the existing data. It's especially popular in tasks like image recognition, natural language processing, and audio analysis. There are several scenarios where data augmentation can be particularly beneficial:\n",
    "\n",
    "- **Small Datasets**: When you have a limited amount of training data, data augmentation can artificially enlarge your dataset, helping the model learn more varied patterns and thereby improving its ability to generalize to new, unseen data.\n",
    "- **Preventing Overfitting**: In cases where the model is complex and has a large capacity relative to the size of the training dataset, data augmentation can help prevent overfitting by providing a more robust and diverse set of training examples. This makes it harder for the model to memorize specific data points and forces it to learn more general patterns.\n",
    "- **Improving Model Robustness and Generalization**: By introducing variations in the training data that a model might encounter in real-world scenarios (such as different orientations, lighting conditions in images, or variations in speech or text), data augmentation can help the model perform better on diverse inputs, thus improving its robustness and ability to generalize.\n",
    "- **Balancing Dataset Classes**: In datasets where some classes are underrepresented, data augmentation can be used to increase the number of samples in those classes, helping to balance the dataset and improve the model's ability to recognize less common classes.\n",
    "- **Exploring Data Augmentation as a Form of Regularization**: Similar to other regularization techniques, data augmentation introduces a form of noise during the training process, which can help to improve the model's performance on unseen data by reducing overfitting.\n",
    "- **Enhancing Performance in Specific Domains**: In certain domains, such as medical imaging or autonomous driving, the conditions under which data is captured can vary widely. Data augmentation can simulate these variations during training, leading to improvements in model performance across a range of conditions.\n",
    "\n",
    "Data augmentation strategies vary depending on the type of data and the specific task. For images, common transformations include rotations, translations, flipping, scaling, cropping, and altering brightness or contrast. For text data, techniques might involve synonym replacement, word insertion or deletion, or sentence paraphrasing. For audio, augmentations could include adding noise, changing pitch, or altering speed.\n",
    "\n",
    "In the present project, we have to manage an unbalanced dataset.\n"
   ],
   "metadata": {
    "collapsed": false
   },
   "id": "57b384f9a9be1a27"
  },
  {
   "cell_type": "code",
   "outputs": [],
   "source": [
    "import os\n",
    "from PIL import Image, ImageEnhance, ImageOps\n",
    "import numpy as np\n"
   ],
   "metadata": {
    "collapsed": true,
    "ExecuteTime": {
     "end_time": "2024-03-12T10:47:12.361184Z",
     "start_time": "2024-03-12T10:47:12.357268Z"
    }
   },
   "id": "initial_id",
   "execution_count": 1
  },
  {
   "cell_type": "code",
   "outputs": [],
   "source": [
    "# define the root directory paths for the original dataset and the destination for the augmented images.\n",
    "path = os.getcwd()\n",
    "source_root = os.path.join(path, \"data\", \"archive\")\n",
    "augmented_root = os.path.join(path, \"data\", \"archive\", \"augmented\")\n"
   ],
   "metadata": {
    "collapsed": false,
    "ExecuteTime": {
     "end_time": "2024-03-12T10:47:12.365771Z",
     "start_time": "2024-03-12T10:47:12.362249Z"
    }
   },
   "id": "9f92653a34ecb6ab",
   "execution_count": 2
  },
  {
   "cell_type": "code",
   "outputs": [],
   "source": [
    "def augment_image(image_path, save_path):\n",
    "    \"\"\"\n",
    "    Applies a series of augmentations to an image and saves the augmented images\n",
    "    \"\"\"\n",
    "\n",
    "    # Open an image file (location: image_path) and loads it into memory as an Image object.\n",
    "    image = Image.open(image_path)\n",
    "    # Define a list of functions (lambdas) for different image augmentations: \n",
    "    # rotation (90, 180, 270 degrees), \n",
    "    # color enhancement (reducing color intensity), \n",
    "    # contrast enhancement (increasing contrast), \n",
    "    # and flipping (left-right and top-bottom).\n",
    "    augmentations = [\n",
    "        lambda x: x.rotate(90),\n",
    "        lambda x: x.rotate(180),\n",
    "        lambda x: x.rotate(270),\n",
    "        lambda x: ImageEnhance.Color(x).enhance(0.5),\n",
    "        lambda x: ImageEnhance.Contrast(x).enhance(1.5),\n",
    "        lambda x: x.transpose(Image.FLIP_LEFT_RIGHT),\n",
    "        lambda x: x.transpose(Image.FLIP_TOP_BOTTOM),\n",
    "    ]\n",
    "\n",
    "    # Save the original image as well in the augmented dataset\n",
    "    original_save_path = os.path.join(save_path, os.path.basename(image_path))\n",
    "    image.save(original_save_path)\n",
    "\n",
    "    # Apply each augmentation and save\n",
    "    for idx, augmentation in enumerate(augmentations):\n",
    "        # applies the current augmentation function to the image.\n",
    "        augmented_image = augmentation(image)\n",
    "        # make each augmented image have a unique filename.\n",
    "        augmented_image_path = f\"{original_save_path.split('.')[0]}_aug{idx}.{original_save_path.split('.')[-1]}\"\n",
    "        # save the augmented image to the constructed path.\n",
    "        augmented_image.save(augmented_image_path)\n"
   ],
   "metadata": {
    "collapsed": false,
    "ExecuteTime": {
     "end_time": "2024-03-12T10:47:12.371028Z",
     "start_time": "2024-03-12T10:47:12.366886Z"
    }
   },
   "id": "efb791c1b36b97e6",
   "execution_count": 3
  },
  {
   "cell_type": "code",
   "outputs": [],
   "source": [
    "for root, dirs, files in os.walk(source_root):\n",
    "    for dir_name in dirs:\n",
    "        if dir_name == '1':  # We augment only the positive samples\n",
    "            dir_path = os.path.join(root, dir_name)\n",
    "            save_path = dir_path.replace(source_root, augmented_root)\n",
    "            os.makedirs(save_path, exist_ok=True)\n",
    "            for file in os.listdir(dir_path):\n",
    "                file_path = os.path.join(dir_path, file)\n",
    "                augment_image(file_path, save_path)\n"
   ],
   "metadata": {
    "collapsed": false,
    "ExecuteTime": {
     "end_time": "2024-03-12T10:47:12.374792Z",
     "start_time": "2024-03-12T10:47:12.372092Z"
    }
   },
   "id": "116f2cd4c27a23d5",
   "execution_count": 4
  },
  {
   "cell_type": "code",
   "outputs": [],
   "source": [],
   "metadata": {
    "collapsed": false,
    "ExecuteTime": {
     "end_time": "2024-03-12T10:47:12.377408Z",
     "start_time": "2024-03-12T10:47:12.374792Z"
    }
   },
   "id": "1f64861fe773457c",
   "execution_count": 4
  }
 ],
 "metadata": {
  "kernelspec": {
   "display_name": "Python 3",
   "language": "python",
   "name": "python3"
  },
  "language_info": {
   "codemirror_mode": {
    "name": "ipython",
    "version": 2
   },
   "file_extension": ".py",
   "mimetype": "text/x-python",
   "name": "python",
   "nbconvert_exporter": "python",
   "pygments_lexer": "ipython2",
   "version": "2.7.6"
  }
 },
 "nbformat": 4,
 "nbformat_minor": 5
}
