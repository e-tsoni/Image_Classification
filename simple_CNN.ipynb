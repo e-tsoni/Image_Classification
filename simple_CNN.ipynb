{
 "cells": [
  {
   "cell_type": "code",
   "execution_count": 1,
   "id": "initial_id",
   "metadata": {
    "collapsed": true,
    "ExecuteTime": {
     "end_time": "2024-03-05T10:41:18.152635Z",
     "start_time": "2024-03-05T10:41:15.759885Z"
    }
   },
   "outputs": [],
   "source": [
    "import torch\n",
    "import torch.nn as nn\n",
    "import torch.optim as optim\n",
    "from torch.utils.data import DataLoader, WeightedRandomSampler\n",
    "from torchvision import datasets, transforms, models\n",
    "from sklearn.metrics import f1_score, roc_auc_score\n",
    "import matplotlib.pyplot as plt\n",
    "import numpy as np\n",
    "import os\n"
   ]
  },
  {
   "cell_type": "code",
   "outputs": [],
   "source": [
    "transform = transforms.Compose([transforms.ToTensor()])\n"
   ],
   "metadata": {
    "collapsed": false,
    "ExecuteTime": {
     "end_time": "2024-03-05T10:41:18.156547Z",
     "start_time": "2024-03-05T10:41:18.153652Z"
    }
   },
   "id": "25a5484c8d1a31f0",
   "execution_count": 2
  },
  {
   "cell_type": "code",
   "outputs": [
    {
     "name": "stdout",
     "output_type": "stream",
     "text": [
      "data_dir C:\\Users\\etson\\PycharmProjects\\pythonProject\n",
      "train_file C:\\Users\\etson\\PycharmProjects\\pythonProject\\train\n",
      "val_file C:\\Users\\etson\\PycharmProjects\\pythonProject\\validation\n",
      "test_file C:\\Users\\etson\\PycharmProjects\\pythonProject\\test\n"
     ]
    }
   ],
   "source": [
    "# Load train, validation and test dataset\n",
    "data_dir = os.getcwd()\n",
    "print(\"data_dir\", data_dir)\n",
    "train_file = os.path.join(data_dir, \"train\")\n",
    "print(\"train_file\", train_file)\n",
    "val_file = os.path.join(data_dir, \"validation\")\n",
    "print(\"val_file\", val_file)\n",
    "test_file = os.path.join(data_dir, \"test\")\n",
    "print(\"test_file\", test_file)\n"
   ],
   "metadata": {
    "collapsed": false,
    "ExecuteTime": {
     "end_time": "2024-03-05T10:41:18.167995Z",
     "start_time": "2024-03-05T10:41:18.157553Z"
    }
   },
   "id": "28b72a76b0457a46",
   "execution_count": 3
  },
  {
   "cell_type": "code",
   "outputs": [],
   "source": [
    "train_dataset = datasets.ImageFolder(train_file, transform=transform)\n",
    "valid_dataset = datasets.ImageFolder(val_file, transform=transform)\n",
    "test_dataset = datasets.ImageFolder(test_file, transform=transform)\n"
   ],
   "metadata": {
    "collapsed": false,
    "ExecuteTime": {
     "end_time": "2024-03-05T10:41:19.166210Z",
     "start_time": "2024-03-05T10:41:18.170Z"
    }
   },
   "id": "35d5483709bfcdde",
   "execution_count": 4
  },
  {
   "cell_type": "code",
   "outputs": [],
   "source": [
    "# Handling imbalanced dataset for training\n",
    "class_counts = torch.tensor([144435, 57089])\n",
    "class_weights = 1. / class_counts\n",
    "samples_weights = torch.tensor([class_weights[t] for t in train_dataset.targets])\n",
    "sampler = WeightedRandomSampler(samples_weights, len(samples_weights))\n"
   ],
   "metadata": {
    "collapsed": false,
    "ExecuteTime": {
     "end_time": "2024-03-05T10:41:19.685168Z",
     "start_time": "2024-03-05T10:41:19.167224Z"
    }
   },
   "id": "aeccb400d57ee535",
   "execution_count": 5
  },
  {
   "cell_type": "code",
   "outputs": [],
   "source": [
    "# Data loaders\n",
    "train_loader = DataLoader(train_dataset, batch_size=32, sampler=sampler)\n",
    "valid_loader = DataLoader(valid_dataset, batch_size=32, shuffle=False)\n",
    "test_loader = DataLoader(test_dataset, batch_size=32, shuffle=False)\n"
   ],
   "metadata": {
    "collapsed": false,
    "ExecuteTime": {
     "end_time": "2024-03-05T10:41:19.689729Z",
     "start_time": "2024-03-05T10:41:19.685168Z"
    }
   },
   "id": "98a67094020b2401",
   "execution_count": 6
  },
  {
   "cell_type": "code",
   "outputs": [],
   "source": [
    "class SimpleCNN(nn.Module):\n",
    "    def __init__(self):\n",
    "        super(SimpleCNN, self).__init__()\n",
    "        self.conv1 = nn.Conv2d(3, 16, kernel_size=3, padding=1)\n",
    "        self.conv2 = nn.Conv2d(16, 32, kernel_size=3, padding=1)\n",
    "        self.conv3 = nn.Conv2d(32, 64, kernel_size=3, padding=1)\n",
    "        self.fc1 = nn.Linear(64 * 6 * 6, 512)\n",
    "        self.fc2 = nn.Linear(512, 2)\n",
    "        self.pool = nn.MaxPool2d(2, 2)\n",
    "        self.relu = nn.ReLU()\n",
    "    \n",
    "    def forward(self, x):\n",
    "        x = self.pool(self.relu(self.conv1(x)))\n",
    "        x = self.pool(self.relu(self.conv2(x)))\n",
    "        x = self.pool(self.relu(self.conv3(x)))\n",
    "        x = x.view(-1, 64 * 6 * 6)\n",
    "        x = self.relu(self.fc1(x))\n",
    "        x = self.fc2(x)\n",
    "        return x\n"
   ],
   "metadata": {
    "collapsed": false,
    "ExecuteTime": {
     "end_time": "2024-03-05T10:41:19.699043Z",
     "start_time": "2024-03-05T10:41:19.689729Z"
    }
   },
   "id": "9632bd6bbe944f5f",
   "execution_count": 7
  },
  {
   "cell_type": "code",
   "outputs": [],
   "source": [
    "model = SimpleCNN()\n"
   ],
   "metadata": {
    "collapsed": false,
    "ExecuteTime": {
     "end_time": "2024-03-05T10:41:19.708496Z",
     "start_time": "2024-03-05T10:41:19.700048Z"
    }
   },
   "id": "c4ee12f7e8593933",
   "execution_count": 8
  },
  {
   "cell_type": "code",
   "outputs": [],
   "source": [
    "device = torch.device(\"cuda\" if torch.cuda.is_available() else \"cpu\")\n",
    "model.to(device)\n",
    "criterion = nn.CrossEntropyLoss()\n",
    "optimizer = optim.Adam(model.parameters(), lr=0.001)\n"
   ],
   "metadata": {
    "collapsed": false,
    "ExecuteTime": {
     "end_time": "2024-03-05T10:41:19.713051Z",
     "start_time": "2024-03-05T10:41:19.709501Z"
    }
   },
   "id": "4436cabf2dc4c5cf",
   "execution_count": 9
  },
  {
   "cell_type": "code",
   "outputs": [],
   "source": [
    "# Training function\n",
    "def train_model(model, criterion, optimizer, num_epochs=25):\n",
    "    train_f1_scores, valid_f1_scores, train_losses, valid_losses = [], [], [], []\n",
    "    \n",
    "    for epoch in range(num_epochs):\n",
    "        model.train()\n",
    "        running_loss = 0.0\n",
    "        preds, true = [], []\n",
    "        \n",
    "        for inputs, labels in train_loader:\n",
    "            inputs, labels = inputs.to(device), labels.to(device)\n",
    "            optimizer.zero_grad()\n",
    "            \n",
    "            outputs = model(inputs)\n",
    "            loss = criterion(outputs, labels)\n",
    "            loss.backward()\n",
    "            optimizer.step()\n",
    "            \n",
    "            running_loss += loss.item() * inputs.size(0)\n",
    "            _, predicted = torch.max(outputs, 1)\n",
    "            preds.extend(predicted.view(-1).cpu().numpy())\n",
    "            true.extend(labels.view(-1).cpu().numpy())\n",
    "        \n",
    "        epoch_loss = running_loss / len(train_loader.dataset)\n",
    "        epoch_f1 = f1_score(true, preds, average='binary')\n",
    "        train_losses.append(epoch_loss)\n",
    "        train_f1_scores.append(epoch_f1)\n",
    "        \n",
    "        # Validation\n",
    "        model.eval()\n",
    "        val_running_loss = 0.0\n",
    "        val_preds, val_true = [], []\n",
    "        with torch.no_grad():\n",
    "            for inputs, labels in valid_loader:\n",
    "                inputs, labels = inputs.to(device), labels.to(device)\n",
    "                \n",
    "                outputs = model(inputs)\n",
    "                loss = criterion(outputs, labels)\n",
    "                \n",
    "                val_running_loss += loss.item() * inputs.size(0)\n",
    "                _, predicted = torch.max(outputs, 1)\n",
    "                val_preds.extend(predicted.view(-1).cpu().numpy())\n",
    "                val_true.extend(labels.view(-1).cpu().numpy())\n",
    "            \n",
    "        val_epoch_loss = val_running_loss / len(valid_loader.dataset)\n",
    "        val_epoch_f1 = f1_score(val_true, val_preds, average='binary')\n",
    "        valid_losses.append(val_epoch_loss)\n",
    "        valid_f1_scores.append(val_epoch_f1)\n",
    "        \n",
    "        print(f'Epoch {epoch+1}, Train Loss: {epoch_loss:.4f}, Train F1: {epoch_f1:.4f}, Val Loss: {val_epoch_loss:.4f}, Val F1: {val_epoch_f1:.4f}')\n",
    "    \n",
    "    return train_losses, train_f1_scores, valid_losses, valid_f1_scores\n"
   ],
   "metadata": {
    "collapsed": false,
    "ExecuteTime": {
     "end_time": "2024-03-05T10:41:19.721393Z",
     "start_time": "2024-03-05T10:41:19.715056Z"
    }
   },
   "id": "6735c940654156f4",
   "execution_count": 10
  },
  {
   "cell_type": "code",
   "outputs": [],
   "source": [
    "# Training the model\n",
    "train_losses, train_f1_scores, valid_losses, valid_f1_scores = train_model(model, criterion, optimizer, num_epochs=5)\n"
   ],
   "metadata": {
    "collapsed": false,
    "ExecuteTime": {
     "end_time": "2024-03-05T10:41:19.731552Z",
     "start_time": "2024-03-05T10:41:19.722399Z"
    }
   },
   "id": "fff1f3a1bd9368f6",
   "execution_count": 11
  },
  {
   "cell_type": "code",
   "outputs": [],
   "source": [
    "def evaluate_model(model, data_loader):\n",
    "    model.eval()\n",
    "    test_preds, test_true = [], []\n",
    "    with torch.no_grad():\n",
    "        for inputs, labels in data_loader:\n",
    "            inputs, labels = inputs.to(device), labels.to(device)\n",
    "            outputs = model(inputs)\n",
    "            _, predicted = torch.max(outputs, 1)\n",
    "            test_preds.extend(predicted.view(-1).cpu().numpy())\n",
    "            test_true.extend(labels.view(-1).cpu().numpy())\n",
    "    f1 = f1_score(test_true, test_preds, average='binary')\n",
    "    # For ROC AUC, we need the probability of the positive class which requires a slight modification to the model or using softmax\n",
    "    # outputs_prob = torch.softmax(outputs, dim=1)[:, 1] # Assuming model modification\n",
    "    # roc_auc = roc_auc_score(test_true, outputs_prob.cpu().numpy())\n",
    "    return f1 #, roc_auc\n"
   ],
   "metadata": {
    "collapsed": false,
    "ExecuteTime": {
     "end_time": "2024-03-05T10:41:19.734547Z",
     "start_time": "2024-03-05T10:41:19.732567Z"
    }
   },
   "id": "a6d0eefc43d7bc84",
   "execution_count": 11
  },
  {
   "cell_type": "code",
   "outputs": [],
   "source": [
    "# Evaluation\n",
    "test_f1 = evaluate_model(model, test_loader)\n",
    "print(f'Test F1: {test_f1:.4f}')\n"
   ],
   "metadata": {
    "collapsed": false,
    "ExecuteTime": {
     "end_time": "2024-03-05T10:41:19.736988Z",
     "start_time": "2024-03-05T10:41:19.734547Z"
    }
   },
   "id": "c7c60e06a63d8a33",
   "execution_count": 11
  },
  {
   "cell_type": "code",
   "outputs": [],
   "source": [
    "# Save the model's state dictionary\n",
    "torch.save(model.state_dict(), 'simple_cnn_model.pth')\n",
    "print(\"Model saved successfully after evaluation.\")"
   ],
   "metadata": {
    "collapsed": false
   },
   "id": "f5485c5206e8e92f"
  },
  {
   "cell_type": "code",
   "outputs": [],
   "source": [
    "plt.figure(figsize=(12, 5))\n",
    "plt.subplot(1, 2, 1)\n",
    "plt.plot(train_losses, label='Train Loss')\n",
    "plt.plot(valid_losses, label='Valid Loss')\n",
    "plt.title('Loss over Epochs')\n",
    "plt.legend()\n",
    "\n",
    "plt.subplot(1, 2, 2)\n",
    "plt.plot(train_f1_scores, label='Train F1 Score')\n",
    "plt.plot(valid_f1_scores, label='Valid F1 Score')\n",
    "plt.title('F1 Score over Epochs')\n",
    "plt.legend()\n",
    "\n",
    "plt.show()\n"
   ],
   "metadata": {
    "collapsed": false,
    "ExecuteTime": {
     "end_time": "2024-03-05T10:41:19.739455Z",
     "start_time": "2024-03-05T10:41:19.736988Z"
    }
   },
   "id": "b36b330b7e6dbf64",
   "execution_count": 11
  },
  {
   "cell_type": "code",
   "outputs": [],
   "source": [],
   "metadata": {
    "collapsed": false
   },
   "id": "89075d2020458a8a"
  }
 ],
 "metadata": {
  "kernelspec": {
   "display_name": "Python 3",
   "language": "python",
   "name": "python3"
  },
  "language_info": {
   "codemirror_mode": {
    "name": "ipython",
    "version": 2
   },
   "file_extension": ".py",
   "mimetype": "text/x-python",
   "name": "python",
   "nbconvert_exporter": "python",
   "pygments_lexer": "ipython2",
   "version": "2.7.6"
  }
 },
 "nbformat": 4,
 "nbformat_minor": 5
}
