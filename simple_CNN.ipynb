{
 "cells": [
  {
   "cell_type": "code",
   "execution_count": 1,
   "id": "initial_id",
   "metadata": {
    "collapsed": true,
    "ExecuteTime": {
     "end_time": "2024-03-05T12:02:19.385777Z",
     "start_time": "2024-03-05T12:02:16.684726Z"
    }
   },
   "outputs": [],
   "source": [
    "import torch\n",
    "import torch.nn as nn\n",
    "import torch.optim as optim\n",
    "from torch.utils.data import DataLoader, WeightedRandomSampler\n",
    "from torchvision import datasets, transforms, models\n",
    "from sklearn.metrics import f1_score, roc_auc_score\n",
    "import matplotlib.pyplot as plt\n",
    "import numpy as np\n",
    "import os\n"
   ]
  },
  {
   "cell_type": "code",
   "outputs": [],
   "source": [
    "transform = transforms.Compose([transforms.ToTensor()])\n"
   ],
   "metadata": {
    "collapsed": false,
    "ExecuteTime": {
     "end_time": "2024-03-05T12:02:19.389767Z",
     "start_time": "2024-03-05T12:02:19.386791Z"
    }
   },
   "id": "25a5484c8d1a31f0",
   "execution_count": 2
  },
  {
   "cell_type": "code",
   "outputs": [
    {
     "name": "stdout",
     "output_type": "stream",
     "text": [
      "data_dir C:\\Users\\etson\\PycharmProjects\\pythonProject\n",
      "train_file C:\\Users\\etson\\PycharmProjects\\pythonProject\\train\n",
      "val_file C:\\Users\\etson\\PycharmProjects\\pythonProject\\validation\n",
      "test_file C:\\Users\\etson\\PycharmProjects\\pythonProject\\test\n"
     ]
    }
   ],
   "source": [
    "# Load train, validation and test dataset\n",
    "data_dir = os.getcwd()\n",
    "print(\"data_dir\", data_dir)\n",
    "train_file = os.path.join(data_dir, \"train\")\n",
    "print(\"train_file\", train_file)\n",
    "val_file = os.path.join(data_dir, \"validation\")\n",
    "print(\"val_file\", val_file)\n",
    "test_file = os.path.join(data_dir, \"test\")\n",
    "print(\"test_file\", test_file)\n"
   ],
   "metadata": {
    "collapsed": false,
    "ExecuteTime": {
     "end_time": "2024-03-05T12:02:19.443434Z",
     "start_time": "2024-03-05T12:02:19.389767Z"
    }
   },
   "id": "28b72a76b0457a46",
   "execution_count": 3
  },
  {
   "cell_type": "code",
   "outputs": [],
   "source": [
    "train_dataset = datasets.ImageFolder(train_file, transform=transform)\n",
    "valid_dataset = datasets.ImageFolder(val_file, transform=transform)\n",
    "test_dataset = datasets.ImageFolder(test_file, transform=transform)\n"
   ],
   "metadata": {
    "collapsed": false,
    "ExecuteTime": {
     "end_time": "2024-03-05T12:02:20.467740Z",
     "start_time": "2024-03-05T12:02:19.444440Z"
    }
   },
   "id": "35d5483709bfcdde",
   "execution_count": 4
  },
  {
   "cell_type": "code",
   "outputs": [],
   "source": [
    "# Handling imbalanced dataset for training\n",
    "class_counts = torch.tensor([144435, 57089])\n",
    "class_weights = 1. / class_counts\n",
    "samples_weights = torch.tensor([class_weights[t] for t in train_dataset.targets])\n",
    "sampler = WeightedRandomSampler(samples_weights, len(samples_weights))\n"
   ],
   "metadata": {
    "collapsed": false,
    "ExecuteTime": {
     "end_time": "2024-03-05T12:02:21.124441Z",
     "start_time": "2024-03-05T12:02:20.470253Z"
    }
   },
   "id": "aeccb400d57ee535",
   "execution_count": 5
  },
  {
   "cell_type": "code",
   "outputs": [],
   "source": [
    "# Data loaders\n",
    "train_loader = DataLoader(train_dataset, batch_size=32, sampler=sampler)\n",
    "valid_loader = DataLoader(valid_dataset, batch_size=32, shuffle=False)\n",
    "test_loader = DataLoader(test_dataset, batch_size=32, shuffle=False)\n"
   ],
   "metadata": {
    "collapsed": false,
    "ExecuteTime": {
     "end_time": "2024-03-05T12:02:21.130290Z",
     "start_time": "2024-03-05T12:02:21.125480Z"
    }
   },
   "id": "98a67094020b2401",
   "execution_count": 6
  },
  {
   "cell_type": "code",
   "outputs": [],
   "source": [
    "class SimpleCNN(nn.Module):\n",
    "    def __init__(self):\n",
    "        super(SimpleCNN, self).__init__()\n",
    "        self.conv1 = nn.Conv2d(3, 16, kernel_size=3, padding=1)\n",
    "        self.conv2 = nn.Conv2d(16, 32, kernel_size=3, padding=1)\n",
    "        self.conv3 = nn.Conv2d(32, 64, kernel_size=3, padding=1)\n",
    "        self.fc1 = nn.Linear(64 * 6 * 6, 512)\n",
    "        self.fc2 = nn.Linear(512, 2)\n",
    "        self.pool = nn.MaxPool2d(2, 2)\n",
    "        self.relu = nn.ReLU()\n",
    "    \n",
    "    def forward(self, x):\n",
    "        x = self.pool(self.relu(self.conv1(x)))\n",
    "        x = self.pool(self.relu(self.conv2(x)))\n",
    "        x = self.pool(self.relu(self.conv3(x)))\n",
    "        x = x.view(-1, 64 * 6 * 6)\n",
    "        x = self.relu(self.fc1(x))\n",
    "        x = self.fc2(x)\n",
    "        return x\n"
   ],
   "metadata": {
    "collapsed": false,
    "ExecuteTime": {
     "end_time": "2024-03-05T12:02:21.138095Z",
     "start_time": "2024-03-05T12:02:21.131327Z"
    }
   },
   "id": "9632bd6bbe944f5f",
   "execution_count": 7
  },
  {
   "cell_type": "code",
   "outputs": [],
   "source": [
    "model = SimpleCNN()\n"
   ],
   "metadata": {
    "collapsed": false,
    "ExecuteTime": {
     "end_time": "2024-03-05T12:02:21.149618Z",
     "start_time": "2024-03-05T12:02:21.139136Z"
    }
   },
   "id": "c4ee12f7e8593933",
   "execution_count": 8
  },
  {
   "cell_type": "code",
   "outputs": [],
   "source": [
    "device = torch.device(\"cuda\" if torch.cuda.is_available() else \"cpu\")\n",
    "model.to(device)\n",
    "criterion = nn.CrossEntropyLoss()\n",
    "optimizer = optim.Adam(model.parameters(), lr=0.001)\n"
   ],
   "metadata": {
    "collapsed": false,
    "ExecuteTime": {
     "end_time": "2024-03-05T12:02:21.154303Z",
     "start_time": "2024-03-05T12:02:21.150631Z"
    }
   },
   "id": "4436cabf2dc4c5cf",
   "execution_count": 9
  },
  {
   "cell_type": "code",
   "outputs": [],
   "source": [
    "# Training function\n",
    "def train_model(model, criterion, optimizer, num_epochs=5):\n",
    "    train_f1_scores, valid_f1_scores, train_losses, valid_losses = [], [], [], []\n",
    "    \n",
    "    for epoch in range(num_epochs):\n",
    "        model.train()\n",
    "        running_loss = 0.0\n",
    "        preds, true = [], []\n",
    "        \n",
    "        for inputs, labels in train_loader:\n",
    "            inputs, labels = inputs.to(device), labels.to(device)\n",
    "            optimizer.zero_grad()\n",
    "            \n",
    "            outputs = model(inputs)\n",
    "            loss = criterion(outputs, labels)\n",
    "            loss.backward()\n",
    "            optimizer.step()\n",
    "            \n",
    "            running_loss += loss.item() * inputs.size(0)\n",
    "            _, predicted = torch.max(outputs, 1)\n",
    "            preds.extend(predicted.view(-1).cpu().numpy())\n",
    "            true.extend(labels.view(-1).cpu().numpy())\n",
    "        \n",
    "        epoch_loss = running_loss / len(train_loader.dataset)\n",
    "        epoch_f1 = f1_score(true, preds, average='binary')\n",
    "        train_losses.append(epoch_loss)\n",
    "        train_f1_scores.append(epoch_f1)\n",
    "        \n",
    "        # Validation\n",
    "        model.eval()\n",
    "        val_running_loss = 0.0\n",
    "        val_preds, val_true = [], []\n",
    "        with torch.no_grad():\n",
    "            for inputs, labels in valid_loader:\n",
    "                inputs, labels = inputs.to(device), labels.to(device)\n",
    "                \n",
    "                outputs = model(inputs)\n",
    "                loss = criterion(outputs, labels)\n",
    "                \n",
    "                val_running_loss += loss.item() * inputs.size(0)\n",
    "                _, predicted = torch.max(outputs, 1)\n",
    "                val_preds.extend(predicted.view(-1).cpu().numpy())\n",
    "                val_true.extend(labels.view(-1).cpu().numpy())\n",
    "            \n",
    "        val_epoch_loss = val_running_loss / len(valid_loader.dataset)\n",
    "        val_epoch_f1 = f1_score(val_true, val_preds, average='binary')\n",
    "        valid_losses.append(val_epoch_loss)\n",
    "        valid_f1_scores.append(val_epoch_f1)\n",
    "        \n",
    "        print(f'Epoch {epoch+1}, Train Loss: {epoch_loss:.4f}, Train F1: {epoch_f1:.4f}, Val Loss: {val_epoch_loss:.4f}, Val F1: {val_epoch_f1:.4f}')\n",
    "    \n",
    "    return train_losses, train_f1_scores, valid_losses, valid_f1_scores\n"
   ],
   "metadata": {
    "collapsed": false,
    "ExecuteTime": {
     "end_time": "2024-03-05T12:02:21.162523Z",
     "start_time": "2024-03-05T12:02:21.155339Z"
    }
   },
   "id": "6735c940654156f4",
   "execution_count": 10
  },
  {
   "cell_type": "code",
   "outputs": [
    {
     "name": "stdout",
     "output_type": "stream",
     "text": [
      "Epoch 1, Train Loss: 0.4203, Train F1: 0.8130, Val Loss: 0.3601, Val F1: 0.7464\n",
      "Epoch 2, Train Loss: 0.3729, Train F1: 0.8397, Val Loss: 0.4130, Val F1: 0.7405\n",
      "Epoch 3, Train Loss: 0.3576, Train F1: 0.8475, Val Loss: 0.3443, Val F1: 0.7538\n",
      "Epoch 4, Train Loss: 0.3471, Train F1: 0.8530, Val Loss: 0.3845, Val F1: 0.7483\n",
      "Epoch 5, Train Loss: 0.3317, Train F1: 0.8609, Val Loss: 0.3934, Val F1: 0.7487\n"
     ]
    }
   ],
   "source": [
    "# Training the model\n",
    "train_losses, train_f1_scores, valid_losses, valid_f1_scores = train_model(model, criterion, optimizer, num_epochs=5)\n"
   ],
   "metadata": {
    "collapsed": false,
    "ExecuteTime": {
     "end_time": "2024-03-05T12:38:41.298816Z",
     "start_time": "2024-03-05T12:02:21.163568Z"
    }
   },
   "id": "fff1f3a1bd9368f6",
   "execution_count": 11
  },
  {
   "cell_type": "code",
   "outputs": [],
   "source": [
    "def evaluate_model(model, data_loader):\n",
    "    model.eval()\n",
    "    test_preds, test_true = [], []\n",
    "    with torch.no_grad():\n",
    "        for inputs, labels in data_loader:\n",
    "            inputs, labels = inputs.to(device), labels.to(device)\n",
    "            outputs = model(inputs)\n",
    "            _, predicted = torch.max(outputs, 1)\n",
    "            test_preds.extend(predicted.view(-1).cpu().numpy())\n",
    "            test_true.extend(labels.view(-1).cpu().numpy())\n",
    "    f1 = f1_score(test_true, test_preds, average='binary')\n",
    "    # For ROC AUC, we need the probability of the positive class which requires a slight modification to the model or using softmax\n",
    "    # outputs_prob = torch.softmax(outputs, dim=1)[:, 1] # Assuming model modification\n",
    "    # roc_auc = roc_auc_score(test_true, outputs_prob.cpu().numpy())\n",
    "    return f1 #, roc_auc\n"
   ],
   "metadata": {
    "collapsed": false,
    "ExecuteTime": {
     "end_time": "2024-03-05T12:38:41.304098Z",
     "start_time": "2024-03-05T12:38:41.299926Z"
    }
   },
   "id": "a6d0eefc43d7bc84",
   "execution_count": 12
  },
  {
   "cell_type": "code",
   "outputs": [
    {
     "name": "stdout",
     "output_type": "stream",
     "text": [
      "Test F1: 0.7479\n"
     ]
    }
   ],
   "source": [
    "# Evaluation\n",
    "test_f1 = evaluate_model(model, test_loader)\n",
    "print(f'Test F1: {test_f1:.4f}')\n"
   ],
   "metadata": {
    "collapsed": false,
    "ExecuteTime": {
     "end_time": "2024-03-05T12:42:47.294667Z",
     "start_time": "2024-03-05T12:38:41.305114Z"
    }
   },
   "id": "c7c60e06a63d8a33",
   "execution_count": 13
  },
  {
   "cell_type": "code",
   "outputs": [
    {
     "name": "stdout",
     "output_type": "stream",
     "text": [
      "Model saved successfully after evaluation.\n"
     ]
    }
   ],
   "source": [
    "# Save the model's state dictionary\n",
    "torch.save(model.state_dict(), 'simple_cnn_model.pth')\n",
    "print(\"Model saved successfully after evaluation.\")"
   ],
   "metadata": {
    "collapsed": false,
    "ExecuteTime": {
     "end_time": "2024-03-05T12:42:47.311699Z",
     "start_time": "2024-03-05T12:42:47.296673Z"
    }
   },
   "id": "f5485c5206e8e92f",
   "execution_count": 14
  },
  {
   "cell_type": "code",
   "outputs": [
    {
     "data": {
      "text/plain": "<Figure size 1200x500 with 2 Axes>",
      "image/png": "[encoded data removed]"
     },
     "metadata": {},
     "output_type": "display_data"
    }
   ],
   "source": [
    "plt.figure(figsize=(12, 5))\n",
    "plt.subplot(1, 2, 1)\n",
    "plt.plot(train_losses, label='Train Loss')\n",
    "plt.plot(valid_losses, label='Valid Loss')\n",
    "plt.title('Loss over Epochs')\n",
    "plt.legend()\n",
    "\n",
    "plt.subplot(1, 2, 2)\n",
    "plt.plot(train_f1_scores, label='Train F1 Score')\n",
    "plt.plot(valid_f1_scores, label='Valid F1 Score')\n",
    "plt.title('F1 Score over Epochs')\n",
    "plt.legend()\n",
    "\n",
    "plt.show()\n"
   ],
   "metadata": {
    "collapsed": false,
    "ExecuteTime": {
     "end_time": "2024-03-05T12:42:47.997266Z",
     "start_time": "2024-03-05T12:42:47.312707Z"
    }
   },
   "id": "b36b330b7e6dbf64",
   "execution_count": 15
  },
  {
   "cell_type": "code",
   "outputs": [],
   "source": [],
   "metadata": {
    "collapsed": false,
    "ExecuteTime": {
     "end_time": "2024-03-05T12:42:47.999793Z",
     "start_time": "2024-03-05T12:42:47.997266Z"
    }
   },
   "id": "89075d2020458a8a",
   "execution_count": 15
  }
 ],
 "metadata": {
  "kernelspec": {
   "display_name": "Python 3",
   "language": "python",
   "name": "python3"
  },
  "language_info": {
   "codemirror_mode": {
    "name": "ipython",
    "version": 2
   },
   "file_extension": ".py",
   "mimetype": "text/x-python",
   "name": "python",
   "nbconvert_exporter": "python",
   "pygments_lexer": "ipython2",
   "version": "2.7.6"
  }
 },
 "nbformat": 4,
 "nbformat_minor": 5
}
