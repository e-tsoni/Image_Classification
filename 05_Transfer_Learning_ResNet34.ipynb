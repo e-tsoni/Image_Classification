{
 "cells": [
  {
   "cell_type": "markdown",
   "source": [
    "# Transfer Learning with Pretrained ResNet34 Model\n"
   ],
   "metadata": {
    "collapsed": false
   },
   "id": "9bb5d3bce1098f8c"
  },
  {
   "cell_type": "code",
   "outputs": [],
   "source": [
    "import torch\n",
    "import torchvision\n",
    "import torchvision.transforms as transforms\n",
    "from torchvision import datasets, models\n",
    "from torch.utils.data import DataLoader\n",
    "from torch import nn, optim\n",
    "import os\n"
   ],
   "metadata": {
    "collapsed": true,
    "ExecuteTime": {
     "end_time": "2024-03-12T11:15:34.644628Z",
     "start_time": "2024-03-12T11:15:34.641583Z"
    }
   },
   "id": "initial_id",
   "execution_count": 1
  },
  {
   "cell_type": "code",
   "outputs": [],
   "source": [
    "# Define transformations for the input data\n",
    "transform = transforms.Compose([\n",
    "    transforms.Resize((224, 224)),  # ResNet34 expects images of size 224x224\n",
    "    transforms.ToTensor(),\n",
    "    transforms.Normalize(mean=[0.485, 0.456, 0.406], std=[0.229, 0.224, 0.225]),\n",
    "])\n"
   ],
   "metadata": {
    "collapsed": false,
    "ExecuteTime": {
     "end_time": "2024-03-12T11:15:34.651336Z",
     "start_time": "2024-03-12T11:15:34.645666Z"
    }
   },
   "id": "22630b6f0ae602fb",
   "execution_count": 2
  },
  {
   "cell_type": "code",
   "outputs": [],
   "source": [
    "# Load train, validation and test dataset\n",
    "data_dir = os.getcwd()\n",
    "train_file = os.path.join(data_dir, \"train\")\n",
    "val_file = os.path.join(data_dir, \"validation\")\n",
    "test_file = os.path.join(data_dir, \"test\")\n"
   ],
   "metadata": {
    "collapsed": false,
    "ExecuteTime": {
     "end_time": "2024-03-12T11:15:34.654956Z",
     "start_time": "2024-03-12T11:15:34.651336Z"
    }
   },
   "id": "9ac51988b429213d",
   "execution_count": 3
  },
  {
   "cell_type": "code",
   "outputs": [],
   "source": [
    "train_dataset = datasets.ImageFolder(train_file, transform=transform)\n",
    "valid_dataset = datasets.ImageFolder(val_file, transform=transform)\n",
    "test_dataset = datasets.ImageFolder(test_file, transform=transform)\n"
   ],
   "metadata": {
    "collapsed": false,
    "ExecuteTime": {
     "end_time": "2024-03-12T11:15:34.659978Z",
     "start_time": "2024-03-12T11:15:34.655993Z"
    }
   },
   "id": "b0a9eea0e6ba6ca4",
   "execution_count": 4
  },
  {
   "cell_type": "code",
   "outputs": [],
   "source": [
    "# Creating data loaders\n",
    "train_loader = DataLoader(train_dataset, batch_size=32, shuffle=True)\n",
    "valid_loader = DataLoader(valid_dataset, batch_size=32, shuffle=False)\n",
    "test_loader = DataLoader(test_dataset, batch_size=32, shuffle=False)\n"
   ],
   "metadata": {
    "collapsed": false,
    "ExecuteTime": {
     "end_time": "2024-03-12T11:15:34.664204Z",
     "start_time": "2024-03-12T11:15:34.661040Z"
    }
   },
   "id": "ca021b33aee51e8a",
   "execution_count": 5
  },
  {
   "cell_type": "code",
   "outputs": [],
   "source": [
    "# Load the pretrained ResNet34 model\n",
    "model = models.resnet34(pretrained=True)\n"
   ],
   "metadata": {
    "collapsed": false,
    "ExecuteTime": {
     "end_time": "2024-03-12T11:15:34.668319Z",
     "start_time": "2024-03-12T11:15:34.665244Z"
    }
   },
   "id": "4b797aa159d48cfa",
   "execution_count": 6
  },
  {
   "cell_type": "code",
   "outputs": [],
   "source": [
    "# Modify the final fully connected layer for binary classification\n",
    "num_ftrs = model.fc.in_features\n",
    "model.fc = nn.Linear(num_ftrs, 2)\n"
   ],
   "metadata": {
    "collapsed": false,
    "ExecuteTime": {
     "end_time": "2024-03-12T11:15:34.672541Z",
     "start_time": "2024-03-12T11:15:34.669359Z"
    }
   },
   "id": "5818d535070f8a0d",
   "execution_count": 7
  },
  {
   "cell_type": "code",
   "outputs": [],
   "source": [
    "# Move the model to the GPU if available\n",
    "device = torch.device(\"cuda:0\" if torch.cuda.is_available() else \"cpu\")\n",
    "model = model.to(device)\n"
   ],
   "metadata": {
    "collapsed": false,
    "ExecuteTime": {
     "end_time": "2024-03-12T11:15:34.676453Z",
     "start_time": "2024-03-12T11:15:34.673589Z"
    }
   },
   "id": "ccee54b737d98eb5",
   "execution_count": 8
  },
  {
   "cell_type": "code",
   "outputs": [],
   "source": [
    "# Define the loss function and optimizer\n",
    "criterion = nn.CrossEntropyLoss()\n",
    "optimizer = optim.SGD(model.parameters(), lr=0.001, momentum=0.9)\n"
   ],
   "metadata": {
    "collapsed": false,
    "ExecuteTime": {
     "end_time": "2024-03-12T11:15:34.680814Z",
     "start_time": "2024-03-12T11:15:34.677560Z"
    }
   },
   "id": "69b8fb5410df084a",
   "execution_count": 9
  },
  {
   "cell_type": "code",
   "outputs": [],
   "source": [
    "def evaluate_model(model, data_loader):\n",
    "    model.eval()  # Set model to evaluation mode\n",
    "    running_corrects = 0\n",
    "    total = 0\n",
    "\n",
    "    with torch.no_grad():\n",
    "        for inputs, labels in data_loader:\n",
    "            inputs = inputs.to(device)\n",
    "            labels = labels.to(device)\n",
    "\n",
    "            outputs = model(inputs)\n",
    "            _, preds = torch.max(outputs, 1)\n",
    "            running_corrects += torch.sum(preds == labels.data)\n",
    "            total += labels.size(0)\n",
    "\n",
    "    accuracy = running_corrects.double() / total\n",
    "    return accuracy\n"
   ],
   "metadata": {
    "collapsed": false,
    "ExecuteTime": {
     "end_time": "2024-03-12T11:15:34.684904Z",
     "start_time": "2024-03-12T11:15:34.681861Z"
    }
   },
   "id": "af3806af177a74f6",
   "execution_count": 10
  },
  {
   "cell_type": "code",
   "outputs": [],
   "source": [
    "def train_model(model, criterion, optimizer, train_loader, valid_loader, num_epochs=5):\n",
    "    for epoch in range(num_epochs):\n",
    "        model.train()  # Set model to training mode\n",
    "\n",
    "        running_loss = 0.0\n",
    "        running_corrects = 0\n",
    "\n",
    "        for inputs, labels in train_loader:\n",
    "            inputs = inputs.to(device)\n",
    "            labels = labels.to(device)\n",
    "\n",
    "            optimizer.zero_grad()\n",
    "\n",
    "            outputs = model(inputs)\n",
    "            loss = criterion(outputs, labels)\n",
    "            _, preds = torch.max(outputs, 1)\n",
    "            loss.backward()\n",
    "            optimizer.step()\n",
    "\n",
    "            running_loss += loss.item() * inputs.size(0)\n",
    "            running_corrects += torch.sum(preds == labels.data)\n",
    "\n",
    "        epoch_loss = running_loss / len(train_loader.dataset)\n",
    "        epoch_acc = running_corrects.double() / len(train_loader.dataset)\n",
    "\n",
    "        # Evaluate on validation set\n",
    "        valid_acc = evaluate_model(model, valid_loader)\n",
    "\n",
    "        print(f'Epoch {epoch+1}/{num_epochs} Train Loss: {epoch_loss:.4f} Train Acc: {epoch_acc:.4f} Valid Acc: {valid_acc:.4f}')\n"
   ],
   "metadata": {
    "collapsed": false,
    "ExecuteTime": {
     "end_time": "2024-03-12T11:15:34.689360Z",
     "start_time": "2024-03-12T11:15:34.685909Z"
    }
   },
   "id": "757275cc47fa1e23",
   "execution_count": 11
  },
  {
   "cell_type": "code",
   "outputs": [],
   "source": [
    "# Train the model with validation\n",
    "train_model(model, criterion, optimizer, train_loader, valid_loader, num_epochs=5)\n"
   ],
   "metadata": {
    "collapsed": false,
    "ExecuteTime": {
     "end_time": "2024-03-12T11:15:34.693429Z",
     "start_time": "2024-03-12T11:15:34.690410Z"
    }
   },
   "id": "60c943124eb77f3e",
   "execution_count": 12
  },
  {
   "cell_type": "code",
   "outputs": [],
   "source": [
    "# Evaluate the model on the test set\n",
    "test_acc = evaluate_model(model, test_loader)\n",
    "print(f'Test Accuracy: {test_acc:.4f}')\n"
   ],
   "metadata": {
    "collapsed": false,
    "ExecuteTime": {
     "end_time": "2024-03-12T11:15:34.697462Z",
     "start_time": "2024-03-12T11:15:34.694490Z"
    }
   },
   "id": "fad82a136b55667a",
   "execution_count": 13
  },
  {
   "cell_type": "code",
   "outputs": [],
   "source": [],
   "metadata": {
    "collapsed": false,
    "ExecuteTime": {
     "end_time": "2024-03-12T11:15:34.700059Z",
     "start_time": "2024-03-12T11:15:34.698467Z"
    }
   },
   "id": "d23d5431aeea1e07",
   "execution_count": 13
  }
 ],
 "metadata": {
  "kernelspec": {
   "display_name": "Python 3",
   "language": "python",
   "name": "python3"
  },
  "language_info": {
   "codemirror_mode": {
    "name": "ipython",
    "version": 2
   },
   "file_extension": ".py",
   "mimetype": "text/x-python",
   "name": "python",
   "nbconvert_exporter": "python",
   "pygments_lexer": "ipython2",
   "version": "2.7.6"
  }
 },
 "nbformat": 4,
 "nbformat_minor": 5
}
