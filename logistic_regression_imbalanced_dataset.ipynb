{
 "cells": [
  {
   "cell_type": "markdown",
   "source": [
    "# Step 1: Import Necessary Libraries\n"
   ],
   "metadata": {
    "collapsed": false
   },
   "id": "deb7667707f246b9"
  },
  {
   "cell_type": "code",
   "outputs": [],
   "source": [
    "import torch\n",
    "import torch.nn as nn\n",
    "import torch.optim as optim\n",
    "from torch.utils.data import DataLoader, TensorDataset\n",
    "from sklearn.model_selection import train_test_split\n",
    "from sklearn.metrics import precision_recall_fscore_support\n",
    "import matplotlib.pyplot as plt\n",
    "import numpy as np\n",
    "import torchvision.transforms as tt\n",
    "import os\n",
    "from torchvision.datasets import ImageFolder\n",
    "from torch.utils.data import DataLoader\n"
   ],
   "metadata": {
    "collapsed": false,
    "ExecuteTime": {
     "end_time": "2024-02-22T16:46:28.147367200Z",
     "start_time": "2024-02-22T16:46:25.685555700Z"
    }
   },
   "id": "9172c65e67077bb2",
   "execution_count": 1
  },
  {
   "cell_type": "markdown",
   "source": [
    "# Step 2: Data Loading"
   ],
   "metadata": {
    "collapsed": false
   },
   "id": "35f35d5ba486918e"
  },
  {
   "cell_type": "code",
   "outputs": [],
   "source": [
    "train_tfms = tt.Compose([tt.ToTensor()])\n",
    "valid_tfms = tt.Compose([tt.ToTensor()])"
   ],
   "metadata": {
    "collapsed": false,
    "ExecuteTime": {
     "end_time": "2024-02-22T16:46:28.152348500Z",
     "start_time": "2024-02-22T16:46:28.148413300Z"
    }
   },
   "id": "a103c268fe563620",
   "execution_count": 2
  },
  {
   "cell_type": "code",
   "outputs": [
    {
     "name": "stdout",
     "output_type": "stream",
     "text": [
      "data_dir C:\\Users\\etson\\PycharmProjects\\pythonProject\n",
      "train_file C:\\Users\\etson\\PycharmProjects\\pythonProject\\train\n",
      "val_file C:\\Users\\etson\\PycharmProjects\\pythonProject\\validation\n",
      "test_file C:\\Users\\etson\\PycharmProjects\\pythonProject\\test\n"
     ]
    }
   ],
   "source": [
    "# Load train, validation and test dataset\n",
    "data_dir = os.getcwd()\n",
    "print(\"data_dir\", data_dir)\n",
    "train_file = os.path.join(data_dir, \"train\")\n",
    "print(\"train_file\", train_file)\n",
    "val_file = os.path.join(data_dir, \"validation\")\n",
    "print(\"val_file\", val_file)\n",
    "test_file = os.path.join(data_dir, \"test\")\n",
    "print(\"test_file\", test_file)"
   ],
   "metadata": {
    "collapsed": false,
    "ExecuteTime": {
     "end_time": "2024-02-22T16:46:28.164149200Z",
     "start_time": "2024-02-22T16:46:28.153420500Z"
    }
   },
   "id": "786a5ac8f28c6aa2",
   "execution_count": 3
  },
  {
   "cell_type": "code",
   "outputs": [],
   "source": [
    "train_ds = ImageFolder(train_file, train_tfms)\n",
    "val_ds = ImageFolder(val_file, valid_tfms)\n",
    "test_ds = ImageFolder(test_file, valid_tfms)\n"
   ],
   "metadata": {
    "collapsed": false,
    "ExecuteTime": {
     "end_time": "2024-02-22T16:46:30.273829300Z",
     "start_time": "2024-02-22T16:46:28.164149200Z"
    }
   },
   "id": "ae78c3ffaeaf3d65",
   "execution_count": 4
  },
  {
   "cell_type": "code",
   "outputs": [],
   "source": [
    "# Batch Size\n",
    "batch_size = 1000\n"
   ],
   "metadata": {
    "collapsed": false,
    "ExecuteTime": {
     "end_time": "2024-02-22T16:46:30.280332Z",
     "start_time": "2024-02-22T16:46:30.275900200Z"
    }
   },
   "id": "ce2f9d66e1bf0c40",
   "execution_count": 5
  },
  {
   "cell_type": "code",
   "outputs": [],
   "source": [
    "# PyTorch data loaders\n",
    "train_dl = DataLoader(train_ds, batch_size, shuffle=True, num_workers=3, pin_memory=True)\n",
    "val_dl = DataLoader(val_ds, batch_size, num_workers=3, pin_memory=True)\n",
    "test_dl = DataLoader(test_ds, batch_size, num_workers=3, pin_memory=True)\n"
   ],
   "metadata": {
    "collapsed": false,
    "ExecuteTime": {
     "end_time": "2024-02-22T16:46:30.292371200Z",
     "start_time": "2024-02-22T16:46:30.281334200Z"
    }
   },
   "id": "5e12367ed41b785",
   "execution_count": 6
  },
  {
   "cell_type": "markdown",
   "source": [
    "# Step 3: Define the Logistic Regression Model\n"
   ],
   "metadata": {
    "collapsed": false
   },
   "id": "18b858eff5dd3008"
  },
  {
   "cell_type": "code",
   "outputs": [],
   "source": [
    "class LogisticRegression(nn.Module):\n",
    "    def __init__(self, input_size):\n",
    "        super(LogisticRegression, self).__init__()\n",
    "        self.linear = nn.Linear(input_size, 1)\n",
    "    \n",
    "    def forward(self, x):\n",
    "        x = x.view(-1, input_size)  # Flatten the image\n",
    "        out = self.linear(x)\n",
    "        return out\n",
    "        # return torch.sigmoid(out)\n"
   ],
   "metadata": {
    "collapsed": false,
    "ExecuteTime": {
     "end_time": "2024-02-22T16:46:30.299219500Z",
     "start_time": "2024-02-22T16:46:30.293373Z"
    }
   },
   "id": "fd8659565db67b8c",
   "execution_count": 7
  },
  {
   "cell_type": "markdown",
   "source": [
    "# Step 4: Initialize Model, Loss Function, and Optimizer\n"
   ],
   "metadata": {
    "collapsed": false
   },
   "id": "dfed1e2d66b1dcb7"
  },
  {
   "cell_type": "code",
   "outputs": [],
   "source": [
    "input_size = 50*50*3  # Flattened size of images\n",
    "model = LogisticRegression(input_size)\n",
    "\n",
    "train_positive_samples = 57089\n",
    "train_negative_samples = 144435\n",
    "pos_weight = torch.tensor([train_negative_samples / train_positive_samples])\n",
    "\n",
    "criterion = nn.BCEWithLogitsLoss(pos_weight=pos_weight)\n",
    "optimizer = optim.Adam(model.parameters())\n",
    "\n",
    "# criterion = nn.BCELoss()\n",
    "#optimizer = optim.SGD(model.parameters(), lr=0.01)\n"
   ],
   "metadata": {
    "collapsed": false,
    "ExecuteTime": {
     "end_time": "2024-02-22T16:46:30.308988200Z",
     "start_time": "2024-02-22T16:46:30.299219500Z"
    }
   },
   "id": "ebad4f07a18fd521",
   "execution_count": 8
  },
  {
   "cell_type": "code",
   "outputs": [],
   "source": [],
   "metadata": {
    "collapsed": false,
    "ExecuteTime": {
     "end_time": "2024-02-22T16:46:30.313362200Z",
     "start_time": "2024-02-22T16:46:30.307771600Z"
    }
   },
   "id": "a20c0a952f11ced4",
   "execution_count": 8
  },
  {
   "cell_type": "markdown",
   "source": [
    "# Step 5: Train the Model with Validation\n"
   ],
   "metadata": {
    "collapsed": false
   },
   "id": "2340910f978df47e"
  },
  {
   "cell_type": "code",
   "outputs": [
    {
     "name": "stdout",
     "output_type": "stream",
     "text": [
      "Epoch 1/10, Training Loss: 1.1859937906265259, Validation Loss: 0.7618248211710077\n",
      "Epoch 2/10, Training Loss: 1.056484580039978, Validation Loss: 0.7270690673275998\n",
      "Epoch 3/10, Training Loss: 1.0690809488296509, Validation Loss: 0.718762899699964\n",
      "Epoch 4/10, Training Loss: 1.0789527893066406, Validation Loss: 0.7160145154124812\n",
      "Epoch 5/10, Training Loss: 1.259397268295288, Validation Loss: 0.7113479328782935\n",
      "Epoch 6/10, Training Loss: 1.3975378274917603, Validation Loss: 0.715805208212451\n",
      "Epoch 7/10, Training Loss: 1.7112360000610352, Validation Loss: 0.7440058173317659\n",
      "Epoch 8/10, Training Loss: 1.2187854051589966, Validation Loss: 0.7100032528764323\n",
      "Epoch 9/10, Training Loss: 1.1737138032913208, Validation Loss: 0.710220112612373\n",
      "Epoch 10/10, Training Loss: 1.3513480424880981, Validation Loss: 0.712683296517322\n"
     ]
    }
   ],
   "source": [
    "epochs = 10\n",
    "for epoch in range(epochs):\n",
    "    model.train()\n",
    "    for images, labels in train_dl:\n",
    "        optimizer.zero_grad()\n",
    "        outputs = model(images)\n",
    "        loss = criterion(outputs, labels.view(-1, 1).float())\n",
    "        loss.backward()\n",
    "        optimizer.step()\n",
    "    \n",
    "    # Validation phase\n",
    "    model.eval()\n",
    "    val_loss = 0\n",
    "    val_steps = 0\n",
    "    for images, labels in val_dl:\n",
    "        with torch.no_grad():\n",
    "            outputs = model(images)\n",
    "            loss = criterion(outputs, labels.view(-1, 1).float())\n",
    "            val_loss += loss.item()\n",
    "            val_steps += 1\n",
    "    avg_val_loss = val_loss / val_steps\n",
    "    print(f'Epoch {epoch+1}/{epochs}, Training Loss: {loss.item()}, Validation Loss: {avg_val_loss}')\n",
    "    "
   ],
   "metadata": {
    "collapsed": false,
    "ExecuteTime": {
     "end_time": "2024-02-22T16:52:59.863016200Z",
     "start_time": "2024-02-22T16:46:48.759573700Z"
    }
   },
   "id": "c3dbc94186faa457",
   "execution_count": 10
  },
  {
   "cell_type": "markdown",
   "source": [
    "# Step 6: Final Evaluation on Test Set\n"
   ],
   "metadata": {
    "collapsed": false
   },
   "id": "b2cecbb667e6edcc"
  },
  {
   "cell_type": "code",
   "outputs": [
    {
     "name": "stdout",
     "output_type": "stream",
     "text": [
      "Precision: 0.6332052781025556, Recall: 0.7016472330186934, F1 Score: 0.6656716417910448\n"
     ]
    }
   ],
   "source": [
    "model.eval()\n",
    "y_true = []\n",
    "y_pred = []\n",
    "\n",
    "with torch.no_grad():\n",
    "    for images, labels in test_dl:\n",
    "        outputs = model(images)\n",
    "        outputs = torch.sigmoid(outputs)\n",
    "        predicted = torch.round(outputs)\n",
    "        y_true.extend(labels.view(-1).tolist())\n",
    "        y_pred.extend(predicted.view(-1).tolist())\n",
    "\n",
    "precision, recall, f1_score, _ = precision_recall_fscore_support(y_true, y_pred, average='binary')\n",
    "print(f'Precision: {precision}, Recall: {recall}, F1 Score: {f1_score}')\n"
   ],
   "metadata": {
    "collapsed": false,
    "ExecuteTime": {
     "end_time": "2024-02-22T16:58:57.760177700Z",
     "start_time": "2024-02-22T16:58:48.929399900Z"
    }
   },
   "id": "d81e3cb7d09f139c",
   "execution_count": 12
  },
  {
   "cell_type": "markdown",
   "source": [
    "# Step 7: Visualize the Results\n"
   ],
   "metadata": {
    "collapsed": false
   },
   "id": "ec2116cd3dd8e5f"
  },
  {
   "cell_type": "code",
   "outputs": [
    {
     "data": {
      "text/plain": "<Figure size 640x480 with 1 Axes>",
      "image/png": "[encoded data removed]"
     },
     "metadata": {},
     "output_type": "display_data"
    }
   ],
   "source": [
    "metrics = [precision, recall, f1_score]\n",
    "metric_names = ['Precision', 'Recall', 'F1 Score']\n",
    "\n",
    "plt.bar(metric_names, metrics)\n",
    "plt.xlabel('Metrics')\n",
    "plt.ylabel('Values')\n",
    "plt.title('Precision, Recall, and F1 Score of the Logistic Regression Model')\n",
    "plt.ylim(0, 1)\n",
    "plt.show()\n"
   ],
   "metadata": {
    "collapsed": false,
    "ExecuteTime": {
     "end_time": "2024-02-22T16:59:05.733281400Z",
     "start_time": "2024-02-22T16:59:05.636776800Z"
    }
   },
   "id": "3ce5ddd5a0d033d",
   "execution_count": 13
  },
  {
   "cell_type": "code",
   "outputs": [],
   "source": [],
   "metadata": {
    "collapsed": false,
    "ExecuteTime": {
     "start_time": "2024-02-22T16:46:37.502209900Z"
    }
   },
   "id": "b2ea569c102182ff",
   "execution_count": null
  }
 ],
 "metadata": {
  "kernelspec": {
   "display_name": "Python 3",
   "language": "python",
   "name": "python3"
  },
  "language_info": {
   "codemirror_mode": {
    "name": "ipython",
    "version": 2
   },
   "file_extension": ".py",
   "mimetype": "text/x-python",
   "name": "python",
   "nbconvert_exporter": "python",
   "pygments_lexer": "ipython2",
   "version": "2.7.6"
  }
 },
 "nbformat": 4,
 "nbformat_minor": 5
}
